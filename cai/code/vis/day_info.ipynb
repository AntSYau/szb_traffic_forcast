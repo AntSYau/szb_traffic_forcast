{
 "cells": [
  {
   "cell_type": "code",
   "execution_count": 5,
   "metadata": {},
   "outputs": [],
   "source": [
    "from chinese_calendar import is_workday, is_holiday\n",
    "import pandas as pd"
   ]
  },
  {
   "cell_type": "code",
   "execution_count": 2,
   "metadata": {},
   "outputs": [],
   "source": [
    "data_path = '../../data/'"
   ]
  },
  {
   "cell_type": "code",
   "execution_count": 3,
   "metadata": {},
   "outputs": [
    {
     "data": {
      "text/html": [
       "<div>\n",
       "<style scoped>\n",
       "    .dataframe tbody tr th:only-of-type {\n",
       "        vertical-align: middle;\n",
       "    }\n",
       "\n",
       "    .dataframe tbody tr th {\n",
       "        vertical-align: top;\n",
       "    }\n",
       "\n",
       "    .dataframe thead th {\n",
       "        text-align: right;\n",
       "    }\n",
       "</style>\n",
       "<table border=\"1\" class=\"dataframe\">\n",
       "  <thead>\n",
       "    <tr style=\"text-align: right;\">\n",
       "      <th></th>\n",
       "      <th>id_road</th>\n",
       "      <th>TTI</th>\n",
       "      <th>speed</th>\n",
       "      <th>time</th>\n",
       "    </tr>\n",
       "  </thead>\n",
       "  <tbody>\n",
       "    <tr>\n",
       "      <th>0</th>\n",
       "      <td>276183</td>\n",
       "      <td>1.03472</td>\n",
       "      <td>69.6197</td>\n",
       "      <td>2019-01-01 00:00:00</td>\n",
       "    </tr>\n",
       "    <tr>\n",
       "      <th>1</th>\n",
       "      <td>276183</td>\n",
       "      <td>1.03506</td>\n",
       "      <td>69.6275</td>\n",
       "      <td>2019-01-01 00:10:00</td>\n",
       "    </tr>\n",
       "    <tr>\n",
       "      <th>2</th>\n",
       "      <td>276183</td>\n",
       "      <td>1.04166</td>\n",
       "      <td>69.1003</td>\n",
       "      <td>2019-01-01 00:20:00</td>\n",
       "    </tr>\n",
       "    <tr>\n",
       "      <th>3</th>\n",
       "      <td>276183</td>\n",
       "      <td>1.02642</td>\n",
       "      <td>70.1266</td>\n",
       "      <td>2019-01-01 00:30:00</td>\n",
       "    </tr>\n",
       "    <tr>\n",
       "      <th>4</th>\n",
       "      <td>276183</td>\n",
       "      <td>1.01442</td>\n",
       "      <td>70.9565</td>\n",
       "      <td>2019-01-01 00:40:00</td>\n",
       "    </tr>\n",
       "  </tbody>\n",
       "</table>\n",
       "</div>"
      ],
      "text/plain": [
       "   id_road      TTI    speed                time\n",
       "0   276183  1.03472  69.6197 2019-01-01 00:00:00\n",
       "1   276183  1.03506  69.6275 2019-01-01 00:10:00\n",
       "2   276183  1.04166  69.1003 2019-01-01 00:20:00\n",
       "3   276183  1.02642  70.1266 2019-01-01 00:30:00\n",
       "4   276183  1.01442  70.9565 2019-01-01 00:40:00"
      ]
     },
     "execution_count": 3,
     "metadata": {},
     "output_type": "execute_result"
    }
   ],
   "source": [
    "tti = pd.read_csv(data_path + 'train_TTI.csv')\n",
    "tti['time'] = pd.to_datetime(tti['time'])\n",
    "tti.head()"
   ]
  },
  {
   "cell_type": "code",
   "execution_count": 4,
   "metadata": {},
   "outputs": [],
   "source": [
    "tti['time'] = pd.to_datetime(tti['time'])"
   ]
  },
  {
   "cell_type": "code",
   "execution_count": 6,
   "metadata": {},
   "outputs": [
    {
     "data": {
      "text/html": [
       "<div>\n",
       "<style scoped>\n",
       "    .dataframe tbody tr th:only-of-type {\n",
       "        vertical-align: middle;\n",
       "    }\n",
       "\n",
       "    .dataframe tbody tr th {\n",
       "        vertical-align: top;\n",
       "    }\n",
       "\n",
       "    .dataframe thead th {\n",
       "        text-align: right;\n",
       "    }\n",
       "</style>\n",
       "<table border=\"1\" class=\"dataframe\">\n",
       "  <thead>\n",
       "    <tr style=\"text-align: right;\">\n",
       "      <th></th>\n",
       "      <th>id_road</th>\n",
       "      <th>TTI</th>\n",
       "      <th>speed</th>\n",
       "      <th>time</th>\n",
       "      <th>holiday</th>\n",
       "    </tr>\n",
       "  </thead>\n",
       "  <tbody>\n",
       "    <tr>\n",
       "      <th>0</th>\n",
       "      <td>276183</td>\n",
       "      <td>1.03472</td>\n",
       "      <td>69.6197</td>\n",
       "      <td>2019-01-01 00:00:00</td>\n",
       "      <td>True</td>\n",
       "    </tr>\n",
       "    <tr>\n",
       "      <th>1</th>\n",
       "      <td>276183</td>\n",
       "      <td>1.03506</td>\n",
       "      <td>69.6275</td>\n",
       "      <td>2019-01-01 00:10:00</td>\n",
       "      <td>True</td>\n",
       "    </tr>\n",
       "    <tr>\n",
       "      <th>2</th>\n",
       "      <td>276183</td>\n",
       "      <td>1.04166</td>\n",
       "      <td>69.1003</td>\n",
       "      <td>2019-01-01 00:20:00</td>\n",
       "      <td>True</td>\n",
       "    </tr>\n",
       "    <tr>\n",
       "      <th>3</th>\n",
       "      <td>276183</td>\n",
       "      <td>1.02642</td>\n",
       "      <td>70.1266</td>\n",
       "      <td>2019-01-01 00:30:00</td>\n",
       "      <td>True</td>\n",
       "    </tr>\n",
       "    <tr>\n",
       "      <th>4</th>\n",
       "      <td>276183</td>\n",
       "      <td>1.01442</td>\n",
       "      <td>70.9565</td>\n",
       "      <td>2019-01-01 00:40:00</td>\n",
       "      <td>True</td>\n",
       "    </tr>\n",
       "  </tbody>\n",
       "</table>\n",
       "</div>"
      ],
      "text/plain": [
       "   id_road      TTI    speed                time  holiday\n",
       "0   276183  1.03472  69.6197 2019-01-01 00:00:00     True\n",
       "1   276183  1.03506  69.6275 2019-01-01 00:10:00     True\n",
       "2   276183  1.04166  69.1003 2019-01-01 00:20:00     True\n",
       "3   276183  1.02642  70.1266 2019-01-01 00:30:00     True\n",
       "4   276183  1.01442  70.9565 2019-01-01 00:40:00     True"
      ]
     },
     "execution_count": 6,
     "metadata": {},
     "output_type": "execute_result"
    }
   ],
   "source": [
    "tti['holiday'] = tti['time'].apply(is_holiday)\n",
    "tti.head()"
   ]
  },
  {
   "cell_type": "code",
   "execution_count": 7,
   "metadata": {},
   "outputs": [],
   "source": [
    "tti[['time', 'holiday']].to_csv(data_path+'day_info.csv', index=False)"
   ]
  },
  {
   "cell_type": "code",
   "execution_count": 8,
   "metadata": {},
   "outputs": [
    {
     "data": {
      "text/html": [
       "<div>\n",
       "<style scoped>\n",
       "    .dataframe tbody tr th:only-of-type {\n",
       "        vertical-align: middle;\n",
       "    }\n",
       "\n",
       "    .dataframe tbody tr th {\n",
       "        vertical-align: top;\n",
       "    }\n",
       "\n",
       "    .dataframe thead th {\n",
       "        text-align: right;\n",
       "    }\n",
       "</style>\n",
       "<table border=\"1\" class=\"dataframe\">\n",
       "  <thead>\n",
       "    <tr style=\"text-align: right;\">\n",
       "      <th></th>\n",
       "      <th>id_road</th>\n",
       "      <th>TTI</th>\n",
       "      <th>speed</th>\n",
       "      <th>time</th>\n",
       "      <th>holiday</th>\n",
       "    </tr>\n",
       "  </thead>\n",
       "  <tbody>\n",
       "    <tr>\n",
       "      <th>296193</th>\n",
       "      <td>276738</td>\n",
       "      <td>1.44719</td>\n",
       "      <td>28.3267</td>\n",
       "      <td>2019-12-21 23:10:00</td>\n",
       "      <td>True</td>\n",
       "    </tr>\n",
       "    <tr>\n",
       "      <th>296194</th>\n",
       "      <td>276738</td>\n",
       "      <td>1.35854</td>\n",
       "      <td>30.1750</td>\n",
       "      <td>2019-12-21 23:20:00</td>\n",
       "      <td>True</td>\n",
       "    </tr>\n",
       "    <tr>\n",
       "      <th>296195</th>\n",
       "      <td>276738</td>\n",
       "      <td>1.37941</td>\n",
       "      <td>29.7186</td>\n",
       "      <td>2019-12-21 23:30:00</td>\n",
       "      <td>True</td>\n",
       "    </tr>\n",
       "    <tr>\n",
       "      <th>296196</th>\n",
       "      <td>276738</td>\n",
       "      <td>1.21284</td>\n",
       "      <td>33.7999</td>\n",
       "      <td>2019-12-21 23:40:00</td>\n",
       "      <td>True</td>\n",
       "    </tr>\n",
       "    <tr>\n",
       "      <th>296197</th>\n",
       "      <td>276738</td>\n",
       "      <td>1.21629</td>\n",
       "      <td>33.7043</td>\n",
       "      <td>2019-12-21 23:50:00</td>\n",
       "      <td>True</td>\n",
       "    </tr>\n",
       "  </tbody>\n",
       "</table>\n",
       "</div>"
      ],
      "text/plain": [
       "        id_road      TTI    speed                time  holiday\n",
       "296193   276738  1.44719  28.3267 2019-12-21 23:10:00     True\n",
       "296194   276738  1.35854  30.1750 2019-12-21 23:20:00     True\n",
       "296195   276738  1.37941  29.7186 2019-12-21 23:30:00     True\n",
       "296196   276738  1.21284  33.7999 2019-12-21 23:40:00     True\n",
       "296197   276738  1.21629  33.7043 2019-12-21 23:50:00     True"
      ]
     },
     "execution_count": 8,
     "metadata": {},
     "output_type": "execute_result"
    }
   ],
   "source": [
    "tti.tail()"
   ]
  },
  {
   "cell_type": "code",
   "execution_count": null,
   "metadata": {},
   "outputs": [],
   "source": []
  }
 ],
 "metadata": {
  "kernelspec": {
   "display_name": "Python 3",
   "language": "python",
   "name": "python3"
  },
  "language_info": {
   "codemirror_mode": {
    "name": "ipython",
    "version": 3
   },
   "file_extension": ".py",
   "mimetype": "text/x-python",
   "name": "python",
   "nbconvert_exporter": "python",
   "pygments_lexer": "ipython3",
   "version": "3.6.9"
  }
 },
 "nbformat": 4,
 "nbformat_minor": 2
}

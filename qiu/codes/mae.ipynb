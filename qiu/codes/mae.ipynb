{
 "cells": [
  {
   "cell_type": "code",
   "execution_count": 24,
   "metadata": {},
   "outputs": [],
   "source": [
    "import pandas as pd\n",
    "import numpy as np\n",
    "import matplotlib.pyplot as plt\n",
    "%matplotlib inline"
   ]
  },
  {
   "cell_type": "code",
   "execution_count": 27,
   "metadata": {},
   "outputs": [],
   "source": [
    "file1=\"../results/1.2_li.csv\"\n",
    "file2=\"../../cai/code/result/method4_cai.csv\"\n",
    "file2=\"../results/1.1_cls.csv\""
   ]
  },
  {
   "cell_type": "code",
   "execution_count": 28,
   "metadata": {},
   "outputs": [
    {
     "data": {
      "text/plain": [
       "id_sample    1511.500000\n",
       "TTI_x           1.540689\n",
       "TTI_y           1.516895\n",
       "ae              0.237481\n",
       "dtype: float64"
      ]
     },
     "execution_count": 28,
     "metadata": {},
     "output_type": "execute_result"
    }
   ],
   "source": [
    "f1=pd.read_csv(file1)\n",
    "f2=pd.read_csv(file2)\n",
    "f=pd.merge(f1,f2,on='id_sample')\n",
    "f.head()\n",
    "n=len(f)\n",
    "f['ae']=abs(f['TTI_x']-f['TTI_y'])\n",
    "f.head()\n",
    "s=pd.DataFrame.mean(f)\n",
    "s"
   ]
  }
 ],
 "metadata": {
  "kernelspec": {
   "display_name": "Python 3",
   "language": "python",
   "name": "python3"
  },
  "language_info": {
   "codemirror_mode": {
    "name": "ipython",
    "version": 3
   },
   "file_extension": ".py",
   "mimetype": "text/x-python",
   "name": "python",
   "nbconvert_exporter": "python",
   "pygments_lexer": "ipython3",
   "version": "3.8.2"
  }
 },
 "nbformat": 4,
 "nbformat_minor": 4
}

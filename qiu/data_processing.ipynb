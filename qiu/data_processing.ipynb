{
 "cells": [
  {
   "cell_type": "code",
   "execution_count": 57,
   "metadata": {},
   "outputs": [],
   "source": [
    "import pandas as pd\n",
    "import numpy as np\n",
    "import sys\n",
    "import math\n",
    "import os\n",
    "import shutil\n",
    "import matplotlib.pyplot as plt\n",
    "import requests\n",
    "import osrm\n",
    "import multiprocessing as mp"
   ]
  },
  {
   "cell_type": "code",
   "execution_count": 58,
   "metadata": {},
   "outputs": [],
   "source": [
    "def GCJ2WGS(lon,lat):\n",
    "    a = 6378245.0 # 克拉索夫斯基椭球参数长半轴a\n",
    "    ee = 0.00669342162296594323 #克拉索夫斯基椭球参数第一偏心率平方\n",
    "    PI = 3.14159265358979324 # 圆周率\n",
    "    # 以下为转换公式 \n",
    "    x = lon - 105.0\n",
    "    y = lat - 35.0\n",
    "    # 经度\n",
    "    dLon = 300.0 + x + 2.0 * y + 0.1 * x * x + 0.1 * x * y + 0.1 * math.sqrt(abs(x));\n",
    "    dLon += (20.0 * math.sin(6.0 * x * PI) + 20.0 * math.sin(2.0 * x * PI)) * 2.0 / 3.0;\n",
    "    dLon += (20.0 * math.sin(x * PI) + 40.0 * math.sin(x / 3.0 * PI)) * 2.0 / 3.0;\n",
    "    dLon += (150.0 * math.sin(x / 12.0 * PI) + 300.0 * math.sin(x / 30.0 * PI)) * 2.0 / 3.0;\n",
    "    #纬度\n",
    "    dLat = -100.0 + 2.0 * x + 3.0 * y + 0.2 * y * y + 0.1 * x * y + 0.2 * math.sqrt(abs(x));\n",
    "    dLat += (20.0 * math.sin(6.0 * x * PI) + 20.0 * math.sin(2.0 * x * PI)) * 2.0 / 3.0;\n",
    "    dLat += (20.0 * math.sin(y * PI) + 40.0 * math.sin(y / 3.0 * PI)) * 2.0 / 3.0;\n",
    "    dLat += (160.0 * math.sin(y / 12.0 * PI) + 320 * math.sin(y * PI / 30.0)) * 2.0 / 3.0;\n",
    "    radLat = lat / 180.0 * PI\n",
    "    magic = math.sin(radLat)\n",
    "    magic = 1 - ee * magic * magic\n",
    "    sqrtMagic = math.sqrt(magic)\n",
    "    dLat = (dLat * 180.0) / ((a * (1 - ee)) / (magic * sqrtMagic) * PI);\n",
    "    dLon = (dLon * 180.0) / (a / sqrtMagic * math.cos(radLat) * PI);\n",
    "    wgsLon = lon - dLon\n",
    "    wgsLat = lat - dLat\n",
    "    return wgsLon,wgsLat"
   ]
  },
  {
   "cell_type": "code",
   "execution_count": 59,
   "metadata": {},
   "outputs": [],
   "source": [
    "def map_matching(line, out, client):\n",
    "    line=[x.strip().replace('\"','') for x in line.split(',',maxsplit=2)]\n",
    "    traj=[x.strip() for x in line[2].split(',')]\n",
    "    traj[0]=traj[0].replace('[','')\n",
    "    traj[-1]=traj[-1].replace(']','')\n",
    "    coordinates=[]\n",
    "    prop=[]\n",
    "    timestamps=[]\n",
    "    for t in traj:\n",
    "        x=t.split(' ')\n",
    "        time=int(x[-1])\n",
    "        x,y,speed,direction=[float(xx) for xx in x[:4]]\n",
    "        x,y=GCJ2WGS(x,y)\n",
    "        coordinates.append([x,y])\n",
    "        prop.append([time,speed,direction])\n",
    "        timestamps.append(time)\n",
    "    response=client.match(coordinates=coordinates,overview=osrm.overview.full,timestamps=timestamps,tidy=False,gaps=osrm.gaps.ignore)\n",
    "    for r,p in zip(response['tracepoints'],prop):\n",
    "        if not r: continue\n",
    "        if r['name']=='': continue\n",
    "        if r['name'] not in out.keys():\n",
    "            out[r['name']]=[]\n",
    "        out[r['name']].append(p)"
   ]
  },
  {
   "cell_type": "code",
   "execution_count": 62,
   "metadata": {
    "tags": [
     "outputPrepend"
    ]
   },
   "outputs": [
    {
     "output_type": "stream",
     "name": "stdout",
     "text": "generating 201901_201903_mapmatched/  0\n"
    },
    {
     "output_type": "error",
     "ename": "AssertionError",
     "evalue": "group argument must be None for now",
     "traceback": [
      "\u001b[1;31m---------------------------------------------------------------------------\u001b[0m",
      "\u001b[1;31mAssertionError\u001b[0m                            Traceback (most recent call last)",
      "\u001b[1;32m<ipython-input-62-ad4d34ac0543>\u001b[0m in \u001b[0;36m<module>\u001b[1;34m\u001b[0m\n\u001b[0;32m     25\u001b[0m                 \u001b[1;32mif\u001b[0m \u001b[0mcnt\u001b[0m\u001b[1;33m%\u001b[0m\u001b[1;36m100\u001b[0m\u001b[1;33m==\u001b[0m\u001b[1;36m0\u001b[0m\u001b[1;33m:\u001b[0m\u001b[1;33m\u001b[0m\u001b[1;33m\u001b[0m\u001b[0m\n\u001b[0;32m     26\u001b[0m                     \u001b[0mprint\u001b[0m\u001b[1;33m(\u001b[0m\u001b[0mcnt\u001b[0m\u001b[1;33m)\u001b[0m\u001b[1;33m\u001b[0m\u001b[1;33m\u001b[0m\u001b[0m\n\u001b[1;32m---> 27\u001b[1;33m                 \u001b[0mpp\u001b[0m \u001b[1;33m=\u001b[0m \u001b[0mmp\u001b[0m\u001b[1;33m.\u001b[0m\u001b[0mProcess\u001b[0m\u001b[1;33m(\u001b[0m\u001b[0mmap_matching\u001b[0m\u001b[1;33m,\u001b[0m\u001b[0margs\u001b[0m\u001b[1;33m=\u001b[0m\u001b[1;33m(\u001b[0m\u001b[0mline\u001b[0m\u001b[1;33m,\u001b[0m\u001b[0mout\u001b[0m\u001b[1;33m,\u001b[0m\u001b[0mclient\u001b[0m\u001b[1;33m,\u001b[0m\u001b[1;33m)\u001b[0m\u001b[1;33m)\u001b[0m\u001b[1;33m\u001b[0m\u001b[1;33m\u001b[0m\u001b[0m\n\u001b[0m\u001b[0;32m     28\u001b[0m                 \u001b[0mpp\u001b[0m\u001b[1;33m.\u001b[0m\u001b[0mstart\u001b[0m\u001b[1;33m(\u001b[0m\u001b[1;33m)\u001b[0m\u001b[1;33m\u001b[0m\u001b[1;33m\u001b[0m\u001b[0m\n\u001b[0;32m     29\u001b[0m                 \u001b[0mp\u001b[0m\u001b[1;33m.\u001b[0m\u001b[0mappend\u001b[0m\u001b[1;33m(\u001b[0m\u001b[0mpp\u001b[0m\u001b[1;33m)\u001b[0m\u001b[1;33m\u001b[0m\u001b[1;33m\u001b[0m\u001b[0m\n",
      "\u001b[1;32m~\\.conda\\envs\\szb\\lib\\multiprocessing\\process.py\u001b[0m in \u001b[0;36m__init__\u001b[1;34m(self, group, target, name, args, kwargs, daemon)\u001b[0m\n\u001b[0;32m     72\u001b[0m     def __init__(self, group=None, target=None, name=None, args=(), kwargs={},\n\u001b[0;32m     73\u001b[0m                  *, daemon=None):\n\u001b[1;32m---> 74\u001b[1;33m         \u001b[1;32massert\u001b[0m \u001b[0mgroup\u001b[0m \u001b[1;32mis\u001b[0m \u001b[1;32mNone\u001b[0m\u001b[1;33m,\u001b[0m \u001b[1;34m'group argument must be None for now'\u001b[0m\u001b[1;33m\u001b[0m\u001b[1;33m\u001b[0m\u001b[0m\n\u001b[0m\u001b[0;32m     75\u001b[0m         \u001b[0mcount\u001b[0m \u001b[1;33m=\u001b[0m \u001b[0mnext\u001b[0m\u001b[1;33m(\u001b[0m\u001b[0m_process_counter\u001b[0m\u001b[1;33m)\u001b[0m\u001b[1;33m\u001b[0m\u001b[1;33m\u001b[0m\u001b[0m\n\u001b[0;32m     76\u001b[0m         \u001b[0mself\u001b[0m\u001b[1;33m.\u001b[0m\u001b[0m_identity\u001b[0m \u001b[1;33m=\u001b[0m \u001b[0m_current_process\u001b[0m\u001b[1;33m.\u001b[0m\u001b[0m_identity\u001b[0m \u001b[1;33m+\u001b[0m \u001b[1;33m(\u001b[0m\u001b[0mcount\u001b[0m\u001b[1;33m,\u001b[0m\u001b[1;33m)\u001b[0m\u001b[1;33m\u001b[0m\u001b[1;33m\u001b[0m\u001b[0m\n",
      "\u001b[1;31mAssertionError\u001b[0m: group argument must be None for now"
     ]
    }
   ],
   "source": [
    "src_file='201901_201903'\n",
    "lines_in_each_chunk=10000\n",
    "client=osrm.Client(host='http://localhost:5000')\n",
    "with open('{}.csv'.format(src_file)) as src:\n",
    "    cnt=0\n",
    "    chunk=0\n",
    "    if os.path.exists('{}_mapmatched'.format(src_file)):\n",
    "        shutil.rmtree('{}_mapmatched'.format(src_file))\n",
    "    os.mkdir('{}_mapmatched'.format(src_file))\n",
    "    while True:\n",
    "        with open('{}_mapmatched/{:3d}'.format(src_file,chunk),'w') as out:\n",
    "            pool = mp.Pool()\n",
    "            manager=mp.Manager()\n",
    "            print('generating {}_mapmatched/{:3d}'.format(src_file,chunk))\n",
    "            out=manager.dict()\n",
    "            p=[]\n",
    "            while True:\n",
    "                line=src.readline()\n",
    "                cnt+=1\n",
    "                if cnt>lines_in_each_chunk:\n",
    "                    chunk+=1\n",
    "                    break\n",
    "                if not line:\n",
    "                    break\n",
    "                if cnt%100==0:\n",
    "                    print(cnt)\n",
    "                pp = mp.Process(target=map_matching,args=(line,out,client,))\n",
    "                pp.start()\n",
    "                p.append(pp)\n",
    "            for pp in p:\n",
    "                pp.join()\n",
    "            print(out['民塘路'])\n",
    "            break"
   ]
  },
  {
   "cell_type": "code",
   "execution_count": null,
   "metadata": {},
   "outputs": [],
   "source": []
  }
 ],
 "metadata": {
  "kernelspec": {
   "display_name": "Python 3",
   "language": "python",
   "name": "python3"
  },
  "language_info": {
   "codemirror_mode": {
    "name": "ipython",
    "version": 3
   },
   "file_extension": ".py",
   "mimetype": "text/x-python",
   "name": "python",
   "nbconvert_exporter": "python",
   "pygments_lexer": "ipython3",
   "version": "3.7.7-final"
  }
 },
 "nbformat": 4,
 "nbformat_minor": 4
}